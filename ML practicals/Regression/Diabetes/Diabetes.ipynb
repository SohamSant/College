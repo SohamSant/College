{
 "cells": [
  {
   "cell_type": "markdown",
   "metadata": {},
   "source": [
    "## Question\n",
    "\n",
    "Regression: Simple Linear \n",
    "\n",
    "Dataset : diabetes.csv\n",
    "\n",
    "Apply Data pre-processing (Label Encoding , Data Transformation….) \n",
    "\n",
    "techniques if necessary.\n",
    "\n",
    "Use any one feature of the dataset to train and test the regression model. Also \n",
    "\n",
    "calculate coefficients, residual sum of squares and the coefficient of determination"
   ]
  },
  {
   "cell_type": "markdown",
   "metadata": {},
   "source": [
    "Frequency of question : 1"
   ]
  },
  {
   "cell_type": "markdown",
   "metadata": {},
   "source": [
    "# Importing Libraries\n"
   ]
  },
  {
   "cell_type": "code",
   "execution_count": 1,
   "metadata": {},
   "outputs": [],
   "source": [
    "import numpy as np\n",
    "import pandas as pd\n",
    "import matplotlib.pyplot as plt"
   ]
  },
  {
   "cell_type": "code",
   "execution_count": 2,
   "metadata": {},
   "outputs": [],
   "source": [
    "dataset= pd.read_csv('diabetes.csv')"
   ]
  },
  {
   "cell_type": "code",
   "execution_count": 3,
   "metadata": {},
   "outputs": [
    {
     "data": {
      "text/html": [
       "<div>\n",
       "<style scoped>\n",
       "    .dataframe tbody tr th:only-of-type {\n",
       "        vertical-align: middle;\n",
       "    }\n",
       "\n",
       "    .dataframe tbody tr th {\n",
       "        vertical-align: top;\n",
       "    }\n",
       "\n",
       "    .dataframe thead th {\n",
       "        text-align: right;\n",
       "    }\n",
       "</style>\n",
       "<table border=\"1\" class=\"dataframe\">\n",
       "  <thead>\n",
       "    <tr style=\"text-align: right;\">\n",
       "      <th></th>\n",
       "      <th>Pregnancies</th>\n",
       "      <th>Glucose</th>\n",
       "      <th>BloodPressure</th>\n",
       "      <th>SkinThickness</th>\n",
       "      <th>Insulin</th>\n",
       "      <th>BMI</th>\n",
       "      <th>DiabetesPedigreeFunction</th>\n",
       "      <th>Age</th>\n",
       "      <th>Outcome</th>\n",
       "    </tr>\n",
       "  </thead>\n",
       "  <tbody>\n",
       "    <tr>\n",
       "      <th>0</th>\n",
       "      <td>6</td>\n",
       "      <td>148</td>\n",
       "      <td>72</td>\n",
       "      <td>35</td>\n",
       "      <td>0</td>\n",
       "      <td>33.6</td>\n",
       "      <td>0.627</td>\n",
       "      <td>50</td>\n",
       "      <td>1</td>\n",
       "    </tr>\n",
       "    <tr>\n",
       "      <th>1</th>\n",
       "      <td>1</td>\n",
       "      <td>85</td>\n",
       "      <td>66</td>\n",
       "      <td>29</td>\n",
       "      <td>0</td>\n",
       "      <td>26.6</td>\n",
       "      <td>0.351</td>\n",
       "      <td>31</td>\n",
       "      <td>0</td>\n",
       "    </tr>\n",
       "    <tr>\n",
       "      <th>2</th>\n",
       "      <td>8</td>\n",
       "      <td>183</td>\n",
       "      <td>64</td>\n",
       "      <td>0</td>\n",
       "      <td>0</td>\n",
       "      <td>23.3</td>\n",
       "      <td>0.672</td>\n",
       "      <td>32</td>\n",
       "      <td>1</td>\n",
       "    </tr>\n",
       "    <tr>\n",
       "      <th>3</th>\n",
       "      <td>1</td>\n",
       "      <td>89</td>\n",
       "      <td>66</td>\n",
       "      <td>23</td>\n",
       "      <td>94</td>\n",
       "      <td>28.1</td>\n",
       "      <td>0.167</td>\n",
       "      <td>21</td>\n",
       "      <td>0</td>\n",
       "    </tr>\n",
       "    <tr>\n",
       "      <th>4</th>\n",
       "      <td>0</td>\n",
       "      <td>137</td>\n",
       "      <td>40</td>\n",
       "      <td>35</td>\n",
       "      <td>168</td>\n",
       "      <td>43.1</td>\n",
       "      <td>2.288</td>\n",
       "      <td>33</td>\n",
       "      <td>1</td>\n",
       "    </tr>\n",
       "    <tr>\n",
       "      <th>...</th>\n",
       "      <td>...</td>\n",
       "      <td>...</td>\n",
       "      <td>...</td>\n",
       "      <td>...</td>\n",
       "      <td>...</td>\n",
       "      <td>...</td>\n",
       "      <td>...</td>\n",
       "      <td>...</td>\n",
       "      <td>...</td>\n",
       "    </tr>\n",
       "    <tr>\n",
       "      <th>763</th>\n",
       "      <td>10</td>\n",
       "      <td>101</td>\n",
       "      <td>76</td>\n",
       "      <td>48</td>\n",
       "      <td>180</td>\n",
       "      <td>32.9</td>\n",
       "      <td>0.171</td>\n",
       "      <td>63</td>\n",
       "      <td>0</td>\n",
       "    </tr>\n",
       "    <tr>\n",
       "      <th>764</th>\n",
       "      <td>2</td>\n",
       "      <td>122</td>\n",
       "      <td>70</td>\n",
       "      <td>27</td>\n",
       "      <td>0</td>\n",
       "      <td>36.8</td>\n",
       "      <td>0.340</td>\n",
       "      <td>27</td>\n",
       "      <td>0</td>\n",
       "    </tr>\n",
       "    <tr>\n",
       "      <th>765</th>\n",
       "      <td>5</td>\n",
       "      <td>121</td>\n",
       "      <td>72</td>\n",
       "      <td>23</td>\n",
       "      <td>112</td>\n",
       "      <td>26.2</td>\n",
       "      <td>0.245</td>\n",
       "      <td>30</td>\n",
       "      <td>0</td>\n",
       "    </tr>\n",
       "    <tr>\n",
       "      <th>766</th>\n",
       "      <td>1</td>\n",
       "      <td>126</td>\n",
       "      <td>60</td>\n",
       "      <td>0</td>\n",
       "      <td>0</td>\n",
       "      <td>30.1</td>\n",
       "      <td>0.349</td>\n",
       "      <td>47</td>\n",
       "      <td>1</td>\n",
       "    </tr>\n",
       "    <tr>\n",
       "      <th>767</th>\n",
       "      <td>1</td>\n",
       "      <td>93</td>\n",
       "      <td>70</td>\n",
       "      <td>31</td>\n",
       "      <td>0</td>\n",
       "      <td>30.4</td>\n",
       "      <td>0.315</td>\n",
       "      <td>23</td>\n",
       "      <td>0</td>\n",
       "    </tr>\n",
       "  </tbody>\n",
       "</table>\n",
       "<p>768 rows × 9 columns</p>\n",
       "</div>"
      ],
      "text/plain": [
       "     Pregnancies  Glucose  BloodPressure  SkinThickness  Insulin   BMI  \\\n",
       "0              6      148             72             35        0  33.6   \n",
       "1              1       85             66             29        0  26.6   \n",
       "2              8      183             64              0        0  23.3   \n",
       "3              1       89             66             23       94  28.1   \n",
       "4              0      137             40             35      168  43.1   \n",
       "..           ...      ...            ...            ...      ...   ...   \n",
       "763           10      101             76             48      180  32.9   \n",
       "764            2      122             70             27        0  36.8   \n",
       "765            5      121             72             23      112  26.2   \n",
       "766            1      126             60              0        0  30.1   \n",
       "767            1       93             70             31        0  30.4   \n",
       "\n",
       "     DiabetesPedigreeFunction  Age  Outcome  \n",
       "0                       0.627   50        1  \n",
       "1                       0.351   31        0  \n",
       "2                       0.672   32        1  \n",
       "3                       0.167   21        0  \n",
       "4                       2.288   33        1  \n",
       "..                        ...  ...      ...  \n",
       "763                     0.171   63        0  \n",
       "764                     0.340   27        0  \n",
       "765                     0.245   30        0  \n",
       "766                     0.349   47        1  \n",
       "767                     0.315   23        0  \n",
       "\n",
       "[768 rows x 9 columns]"
      ]
     },
     "execution_count": 3,
     "metadata": {},
     "output_type": "execute_result"
    }
   ],
   "source": [
    "dataset"
   ]
  },
  {
   "cell_type": "code",
   "execution_count": 4,
   "metadata": {},
   "outputs": [
    {
     "data": {
      "text/plain": [
       "(768, 9)"
      ]
     },
     "execution_count": 4,
     "metadata": {},
     "output_type": "execute_result"
    }
   ],
   "source": [
    "dataset.shape"
   ]
  },
  {
   "cell_type": "code",
   "execution_count": 5,
   "metadata": {},
   "outputs": [
    {
     "data": {
      "text/plain": [
       "Pregnancies                 111\n",
       "Glucose                       5\n",
       "BloodPressure                35\n",
       "SkinThickness               227\n",
       "Insulin                     374\n",
       "BMI                          11\n",
       "DiabetesPedigreeFunction      0\n",
       "Age                           0\n",
       "Outcome                     500\n",
       "dtype: int64"
      ]
     },
     "execution_count": 5,
     "metadata": {},
     "output_type": "execute_result"
    }
   ],
   "source": [
    "dataset.eq(0).sum()"
   ]
  },
  {
   "cell_type": "code",
   "execution_count": 6,
   "metadata": {},
   "outputs": [],
   "source": [
    "# Assuming 'dependent_variable' is the name of your dependent variable column\n",
    "correlation_matrix = dataset.corr()['DiabetesPedigreeFunction'].abs()\n",
    "\n",
    "# Display the correlation values in descending order\n",
    "sorted_correlation = correlation_matrix.sort_values(ascending=False)"
   ]
  },
  {
   "cell_type": "code",
   "execution_count": 7,
   "metadata": {},
   "outputs": [
    {
     "data": {
      "text/plain": [
       "DiabetesPedigreeFunction    1.000000\n",
       "Insulin                     0.185071\n",
       "SkinThickness               0.183928\n",
       "Outcome                     0.173844\n",
       "BMI                         0.140647\n",
       "Glucose                     0.137337\n",
       "BloodPressure               0.041265\n",
       "Age                         0.033561\n",
       "Pregnancies                 0.033523\n",
       "Name: DiabetesPedigreeFunction, dtype: float64"
      ]
     },
     "execution_count": 7,
     "metadata": {},
     "output_type": "execute_result"
    }
   ],
   "source": [
    "sorted_correlation"
   ]
  },
  {
   "cell_type": "code",
   "execution_count": 8,
   "metadata": {},
   "outputs": [],
   "source": [
    "ott = dataset.loc[dataset['Glucose'] == 0]"
   ]
  },
  {
   "cell_type": "code",
   "execution_count": 9,
   "metadata": {},
   "outputs": [
    {
     "data": {
      "text/html": [
       "<div>\n",
       "<style scoped>\n",
       "    .dataframe tbody tr th:only-of-type {\n",
       "        vertical-align: middle;\n",
       "    }\n",
       "\n",
       "    .dataframe tbody tr th {\n",
       "        vertical-align: top;\n",
       "    }\n",
       "\n",
       "    .dataframe thead th {\n",
       "        text-align: right;\n",
       "    }\n",
       "</style>\n",
       "<table border=\"1\" class=\"dataframe\">\n",
       "  <thead>\n",
       "    <tr style=\"text-align: right;\">\n",
       "      <th></th>\n",
       "      <th>Pregnancies</th>\n",
       "      <th>Glucose</th>\n",
       "      <th>BloodPressure</th>\n",
       "      <th>SkinThickness</th>\n",
       "      <th>Insulin</th>\n",
       "      <th>BMI</th>\n",
       "      <th>DiabetesPedigreeFunction</th>\n",
       "      <th>Age</th>\n",
       "      <th>Outcome</th>\n",
       "    </tr>\n",
       "  </thead>\n",
       "  <tbody>\n",
       "    <tr>\n",
       "      <th>75</th>\n",
       "      <td>1</td>\n",
       "      <td>0</td>\n",
       "      <td>48</td>\n",
       "      <td>20</td>\n",
       "      <td>0</td>\n",
       "      <td>24.7</td>\n",
       "      <td>0.140</td>\n",
       "      <td>22</td>\n",
       "      <td>0</td>\n",
       "    </tr>\n",
       "    <tr>\n",
       "      <th>182</th>\n",
       "      <td>1</td>\n",
       "      <td>0</td>\n",
       "      <td>74</td>\n",
       "      <td>20</td>\n",
       "      <td>23</td>\n",
       "      <td>27.7</td>\n",
       "      <td>0.299</td>\n",
       "      <td>21</td>\n",
       "      <td>0</td>\n",
       "    </tr>\n",
       "    <tr>\n",
       "      <th>342</th>\n",
       "      <td>1</td>\n",
       "      <td>0</td>\n",
       "      <td>68</td>\n",
       "      <td>35</td>\n",
       "      <td>0</td>\n",
       "      <td>32.0</td>\n",
       "      <td>0.389</td>\n",
       "      <td>22</td>\n",
       "      <td>0</td>\n",
       "    </tr>\n",
       "    <tr>\n",
       "      <th>349</th>\n",
       "      <td>5</td>\n",
       "      <td>0</td>\n",
       "      <td>80</td>\n",
       "      <td>32</td>\n",
       "      <td>0</td>\n",
       "      <td>41.0</td>\n",
       "      <td>0.346</td>\n",
       "      <td>37</td>\n",
       "      <td>1</td>\n",
       "    </tr>\n",
       "    <tr>\n",
       "      <th>502</th>\n",
       "      <td>6</td>\n",
       "      <td>0</td>\n",
       "      <td>68</td>\n",
       "      <td>41</td>\n",
       "      <td>0</td>\n",
       "      <td>39.0</td>\n",
       "      <td>0.727</td>\n",
       "      <td>41</td>\n",
       "      <td>1</td>\n",
       "    </tr>\n",
       "  </tbody>\n",
       "</table>\n",
       "</div>"
      ],
      "text/plain": [
       "     Pregnancies  Glucose  BloodPressure  SkinThickness  Insulin   BMI  \\\n",
       "75             1        0             48             20        0  24.7   \n",
       "182            1        0             74             20       23  27.7   \n",
       "342            1        0             68             35        0  32.0   \n",
       "349            5        0             80             32        0  41.0   \n",
       "502            6        0             68             41        0  39.0   \n",
       "\n",
       "     DiabetesPedigreeFunction  Age  Outcome  \n",
       "75                      0.140   22        0  \n",
       "182                     0.299   21        0  \n",
       "342                     0.389   22        0  \n",
       "349                     0.346   37        1  \n",
       "502                     0.727   41        1  "
      ]
     },
     "execution_count": 9,
     "metadata": {},
     "output_type": "execute_result"
    }
   ],
   "source": [
    "ott"
   ]
  },
  {
   "cell_type": "code",
   "execution_count": 10,
   "metadata": {},
   "outputs": [],
   "source": [
    "dataset = dataset[dataset['Glucose'] != 0]\n"
   ]
  },
  {
   "cell_type": "code",
   "execution_count": 11,
   "metadata": {},
   "outputs": [
    {
     "data": {
      "text/plain": [
       "Pregnancies                 111\n",
       "Glucose                       0\n",
       "BloodPressure                35\n",
       "SkinThickness               227\n",
       "Insulin                     370\n",
       "BMI                          11\n",
       "DiabetesPedigreeFunction      0\n",
       "Age                           0\n",
       "Outcome                     497\n",
       "dtype: int64"
      ]
     },
     "execution_count": 11,
     "metadata": {},
     "output_type": "execute_result"
    }
   ],
   "source": [
    "dataset.eq(0).sum()"
   ]
  },
  {
   "cell_type": "code",
   "execution_count": 12,
   "metadata": {},
   "outputs": [],
   "source": [
    "X = dataset['Glucose'].values\n",
    "y = dataset.iloc[:,-1].values"
   ]
  },
  {
   "cell_type": "code",
   "execution_count": 13,
   "metadata": {},
   "outputs": [
    {
     "data": {
      "text/plain": [
       "array([[148,  85, 183,  89, 137, 116,  78, 115, 197, 125, 110, 168, 139,\n",
       "        189, 166, 100, 118, 107, 103, 115, 126,  99, 196, 119, 143, 125,\n",
       "        147,  97, 145, 117, 109, 158,  88,  92, 122, 103, 138, 102,  90,\n",
       "        111, 180, 133, 106, 171, 159, 180, 146,  71, 103, 105, 103, 101,\n",
       "         88, 176, 150,  73, 187, 100, 146, 105,  84, 133,  44, 141, 114,\n",
       "         99, 109, 109,  95, 146, 100, 139, 126, 129,  79,  62,  95, 131,\n",
       "        112, 113,  74,  83, 101, 137, 110, 106, 100, 136, 107,  80, 123,\n",
       "         81, 134, 142, 144,  92,  71,  93, 122, 163, 151, 125,  81,  85,\n",
       "        126,  96, 144,  83,  95, 171, 155,  89,  76, 160, 146, 124,  78,\n",
       "         97,  99, 162, 111, 107, 132, 113,  88, 120, 118, 117, 105, 173,\n",
       "        122, 170,  84,  96, 125, 100,  93, 129, 105, 128, 106, 108, 108,\n",
       "        154, 102,  57, 106, 147,  90, 136, 114, 156, 153, 188, 152,  99,\n",
       "        109,  88, 163, 151, 102, 114, 100, 131, 104, 148, 120, 110, 111,\n",
       "        102, 134,  87,  79,  75, 179,  85, 129, 143, 130,  87, 119,  73,\n",
       "        141, 194, 181, 128, 109, 139, 111, 123, 159, 135,  85, 158, 105,\n",
       "        107, 109, 148, 113, 138, 108,  99, 103, 111, 196, 162,  96, 184,\n",
       "         81, 147, 179, 140, 112, 151, 109, 125,  85, 112, 177, 158, 119,\n",
       "        142, 100,  87, 101, 162, 197, 117, 142, 134,  79, 122,  74, 171,\n",
       "        181, 179, 164, 104,  91,  91, 139, 119, 146, 184, 122, 165, 124,\n",
       "        111, 106, 129,  90,  86,  92, 113, 111, 114, 193, 155, 191, 141,\n",
       "         95, 142, 123,  96, 138, 128, 102, 146, 101, 108, 122,  71, 106,\n",
       "        100, 106, 104, 114, 108, 146, 129, 133, 161, 108, 136, 155, 119,\n",
       "         96, 108,  78, 107, 128, 128, 161, 151, 146, 126, 100, 112, 167,\n",
       "        144,  77, 115, 150, 120, 161, 137, 128, 124,  80, 106, 155, 113,\n",
       "        109, 112,  99, 182, 115, 194, 129, 112, 124, 152, 112, 157, 122,\n",
       "        179, 102, 105, 118,  87, 180, 106,  95, 165, 117, 115, 152, 178,\n",
       "        130,  95, 122,  95, 126, 139, 116,  99,  92, 137,  61,  90,  90,\n",
       "        165, 125, 129,  88, 196, 189, 158, 103, 146, 147,  99, 124, 101,\n",
       "         81, 133, 173, 118,  84, 105, 122, 140,  98,  87, 156,  93, 107,\n",
       "        105, 109,  90, 125, 119, 116, 105, 144, 100, 100, 166, 131, 116,\n",
       "        158, 127,  96, 131,  82, 193,  95, 137, 136,  72, 168, 123, 115,\n",
       "        101, 197, 172, 102, 112, 143, 143, 138, 173,  97, 144,  83, 129,\n",
       "        119,  94, 102, 115, 151, 184,  94, 181, 135,  95,  99,  89,  80,\n",
       "        139,  90, 141, 140, 147,  97, 107, 189,  83, 117, 108, 117, 180,\n",
       "        100,  95, 104, 120,  82, 134,  91, 119, 100, 175, 135,  86, 148,\n",
       "        134, 120,  71,  74,  88, 115, 124,  74,  97, 120, 154, 144, 137,\n",
       "        119, 136, 114, 137, 105, 114, 126, 132, 158, 123,  85,  84, 145,\n",
       "        135, 139, 173,  99, 194,  83,  89,  99, 125,  80, 166, 110,  81,\n",
       "        195, 154, 117,  84,  94,  96,  75, 180, 130,  84, 120,  84, 139,\n",
       "         91,  91,  99, 163, 145, 125,  76, 129,  68, 124, 114, 130, 125,\n",
       "         87,  97, 116, 117, 111, 122, 107,  86,  91,  77, 132, 105,  57,\n",
       "        127, 129, 100, 128,  90,  84,  88, 186, 187, 131, 164, 189, 116,\n",
       "         84, 114,  88,  84, 124,  97, 110, 103,  85, 125, 198,  87,  99,\n",
       "         91,  95,  99,  92, 154, 121,  78, 130, 111,  98, 143, 119, 108,\n",
       "        118, 133, 197, 151, 109, 121, 100, 124,  93, 143, 103, 176,  73,\n",
       "        111, 112, 132,  82, 123, 188,  67,  89, 173, 109, 108,  96, 124,\n",
       "        150, 183, 124, 181,  92, 152, 111, 106, 174, 168, 105, 138, 106,\n",
       "        117,  68, 112, 119, 112,  92, 183,  94, 108,  90, 125, 132, 128,\n",
       "         94, 114, 102, 111, 128,  92, 104, 104,  94,  97, 100, 102, 128,\n",
       "        147,  90, 103, 157, 167, 179, 136, 107,  91, 117, 123, 120, 106,\n",
       "        155, 101, 120, 127,  80, 162, 199, 167, 145, 115, 112, 145, 111,\n",
       "         98, 154, 165,  99,  68, 123,  91, 195, 156,  93, 121, 101,  56,\n",
       "        162,  95, 125, 136, 129, 130, 107, 140, 144, 107, 158, 121, 129,\n",
       "         90, 142, 169,  99, 127, 118, 122, 125, 168, 129, 110,  80, 115,\n",
       "        127, 164,  93, 158, 126, 129, 134, 102, 187, 173,  94, 108,  97,\n",
       "         83, 114, 149, 117, 111, 112, 116, 141, 175,  92, 130, 120, 174,\n",
       "        106, 105,  95, 126,  65,  99, 102, 120, 102, 109, 140, 153, 100,\n",
       "        147,  81, 187, 162, 136, 121, 108, 181, 154, 128, 137, 123, 106,\n",
       "        190,  88, 170,  89, 101, 122, 121, 126,  93]], dtype=int64)"
      ]
     },
     "execution_count": 13,
     "metadata": {},
     "output_type": "execute_result"
    }
   ],
   "source": [
    "X.reshape(1,-1)"
   ]
  },
  {
   "cell_type": "code",
   "execution_count": 14,
   "metadata": {},
   "outputs": [
    {
     "data": {
      "text/plain": [
       "<matplotlib.collections.PathCollection at 0x1611874f150>"
      ]
     },
     "execution_count": 14,
     "metadata": {},
     "output_type": "execute_result"
    },
    {
     "data": {
      "image/png": "[encoded data removed]",
      "text/plain": [
       "<Figure size 640x480 with 1 Axes>"
      ]
     },
     "metadata": {},
     "output_type": "display_data"
    }
   ],
   "source": [
    "plt.scatter(X,y)"
   ]
  },
  {
   "cell_type": "code",
   "execution_count": null,
   "metadata": {},
   "outputs": [],
   "source": []
  }
 ],
 "metadata": {
  "kernelspec": {
   "display_name": "Python 3",
   "language": "python",
   "name": "python3"
  },
  "language_info": {
   "codemirror_mode": {
    "name": "ipython",
    "version": 3
   },
   "file_extension": ".py",
   "mimetype": "text/x-python",
   "name": "python",
   "nbconvert_exporter": "python",
   "pygments_lexer": "ipython3",
   "version": "3.11.4"
  }
 },
 "nbformat": 4,
 "nbformat_minor": 2
}
