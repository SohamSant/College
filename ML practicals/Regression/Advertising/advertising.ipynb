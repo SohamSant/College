{
 "cells": [
  {
   "cell_type": "markdown",
   "metadata": {},
   "source": [
    "# Question:\n",
    "\n",
    "Regression: Simple Linear \n",
    "\n",
    "Dataset: advertising.csv\n",
    "\n",
    "Apply Data pre-processing (Label Encoding , Data Transformation….) \n",
    "\n",
    "techniques if necessary.\n",
    "\n",
    "Explore whether TV advertising spending can predict the number of sales for \n",
    "\n",
    "the product. Also display the regression results and plot the\n",
    "\n",
    "regression line."
   ]
  },
  {
   "cell_type": "markdown",
   "metadata": {},
   "source": [
    "frequency : 3"
   ]
  },
  {
   "cell_type": "markdown",
   "metadata": {},
   "source": [
    "# Importing Libraries "
   ]
  },
  {
   "cell_type": "code",
   "execution_count": 72,
   "metadata": {},
   "outputs": [],
   "source": [
    "import numpy as np\n",
    "import pandas as pd\n",
    "import matplotlib.pyplot as plt"
   ]
  },
  {
   "cell_type": "markdown",
   "metadata": {},
   "source": [
    "# Importing Dataset"
   ]
  },
  {
   "cell_type": "code",
   "execution_count": 73,
   "metadata": {},
   "outputs": [],
   "source": [
    "dataset = pd.read_csv(\"advertising.csv\")"
   ]
  },
  {
   "cell_type": "code",
   "execution_count": 74,
   "metadata": {},
   "outputs": [
    {
     "data": {
      "text/html": [
       "<div>\n",
       "<style scoped>\n",
       "    .dataframe tbody tr th:only-of-type {\n",
       "        vertical-align: middle;\n",
       "    }\n",
       "\n",
       "    .dataframe tbody tr th {\n",
       "        vertical-align: top;\n",
       "    }\n",
       "\n",
       "    .dataframe thead th {\n",
       "        text-align: right;\n",
       "    }\n",
       "</style>\n",
       "<table border=\"1\" class=\"dataframe\">\n",
       "  <thead>\n",
       "    <tr style=\"text-align: right;\">\n",
       "      <th></th>\n",
       "      <th>TV</th>\n",
       "      <th>Radio</th>\n",
       "      <th>Newspaper</th>\n",
       "      <th>Sales</th>\n",
       "    </tr>\n",
       "  </thead>\n",
       "  <tbody>\n",
       "    <tr>\n",
       "      <th>0</th>\n",
       "      <td>230.1</td>\n",
       "      <td>37.8</td>\n",
       "      <td>69.2</td>\n",
       "      <td>22.1</td>\n",
       "    </tr>\n",
       "    <tr>\n",
       "      <th>1</th>\n",
       "      <td>44.5</td>\n",
       "      <td>39.3</td>\n",
       "      <td>45.1</td>\n",
       "      <td>10.4</td>\n",
       "    </tr>\n",
       "    <tr>\n",
       "      <th>2</th>\n",
       "      <td>17.2</td>\n",
       "      <td>45.9</td>\n",
       "      <td>69.3</td>\n",
       "      <td>12.0</td>\n",
       "    </tr>\n",
       "    <tr>\n",
       "      <th>3</th>\n",
       "      <td>151.5</td>\n",
       "      <td>41.3</td>\n",
       "      <td>58.5</td>\n",
       "      <td>16.5</td>\n",
       "    </tr>\n",
       "    <tr>\n",
       "      <th>4</th>\n",
       "      <td>180.8</td>\n",
       "      <td>10.8</td>\n",
       "      <td>58.4</td>\n",
       "      <td>17.9</td>\n",
       "    </tr>\n",
       "  </tbody>\n",
       "</table>\n",
       "</div>"
      ],
      "text/plain": [
       "      TV  Radio  Newspaper  Sales\n",
       "0  230.1   37.8       69.2   22.1\n",
       "1   44.5   39.3       45.1   10.4\n",
       "2   17.2   45.9       69.3   12.0\n",
       "3  151.5   41.3       58.5   16.5\n",
       "4  180.8   10.8       58.4   17.9"
      ]
     },
     "execution_count": 74,
     "metadata": {},
     "output_type": "execute_result"
    }
   ],
   "source": [
    "dataset.head()"
   ]
  },
  {
   "cell_type": "code",
   "execution_count": 75,
   "metadata": {},
   "outputs": [
    {
     "data": {
      "text/plain": [
       "(200, 4)"
      ]
     },
     "execution_count": 75,
     "metadata": {},
     "output_type": "execute_result"
    }
   ],
   "source": [
    "dataset.shape"
   ]
  },
  {
   "cell_type": "code",
   "execution_count": 77,
   "metadata": {},
   "outputs": [],
   "source": [
    "correlation_matrix = dataset.corr()['Sales'].abs()\n",
    "\n",
    "# Display the correlation values in descending order\n",
    "sorted_correlation = correlation_matrix.sort_values(ascending=False)"
   ]
  },
  {
   "cell_type": "code",
   "execution_count": 78,
   "metadata": {},
   "outputs": [
    {
     "data": {
      "text/html": [
       "<div>\n",
       "<style scoped>\n",
       "    .dataframe tbody tr th:only-of-type {\n",
       "        vertical-align: middle;\n",
       "    }\n",
       "\n",
       "    .dataframe tbody tr th {\n",
       "        vertical-align: top;\n",
       "    }\n",
       "\n",
       "    .dataframe thead th {\n",
       "        text-align: right;\n",
       "    }\n",
       "</style>\n",
       "<table border=\"1\" class=\"dataframe\">\n",
       "  <thead>\n",
       "    <tr style=\"text-align: right;\">\n",
       "      <th></th>\n",
       "      <th>TV</th>\n",
       "      <th>Radio</th>\n",
       "      <th>Newspaper</th>\n",
       "      <th>Sales</th>\n",
       "    </tr>\n",
       "  </thead>\n",
       "  <tbody>\n",
       "    <tr>\n",
       "      <th>0</th>\n",
       "      <td>230.1</td>\n",
       "      <td>37.8</td>\n",
       "      <td>69.2</td>\n",
       "      <td>22.1</td>\n",
       "    </tr>\n",
       "    <tr>\n",
       "      <th>1</th>\n",
       "      <td>44.5</td>\n",
       "      <td>39.3</td>\n",
       "      <td>45.1</td>\n",
       "      <td>10.4</td>\n",
       "    </tr>\n",
       "    <tr>\n",
       "      <th>2</th>\n",
       "      <td>17.2</td>\n",
       "      <td>45.9</td>\n",
       "      <td>69.3</td>\n",
       "      <td>12.0</td>\n",
       "    </tr>\n",
       "    <tr>\n",
       "      <th>3</th>\n",
       "      <td>151.5</td>\n",
       "      <td>41.3</td>\n",
       "      <td>58.5</td>\n",
       "      <td>16.5</td>\n",
       "    </tr>\n",
       "    <tr>\n",
       "      <th>4</th>\n",
       "      <td>180.8</td>\n",
       "      <td>10.8</td>\n",
       "      <td>58.4</td>\n",
       "      <td>17.9</td>\n",
       "    </tr>\n",
       "    <tr>\n",
       "      <th>...</th>\n",
       "      <td>...</td>\n",
       "      <td>...</td>\n",
       "      <td>...</td>\n",
       "      <td>...</td>\n",
       "    </tr>\n",
       "    <tr>\n",
       "      <th>195</th>\n",
       "      <td>38.2</td>\n",
       "      <td>3.7</td>\n",
       "      <td>13.8</td>\n",
       "      <td>7.6</td>\n",
       "    </tr>\n",
       "    <tr>\n",
       "      <th>196</th>\n",
       "      <td>94.2</td>\n",
       "      <td>4.9</td>\n",
       "      <td>8.1</td>\n",
       "      <td>14.0</td>\n",
       "    </tr>\n",
       "    <tr>\n",
       "      <th>197</th>\n",
       "      <td>177.0</td>\n",
       "      <td>9.3</td>\n",
       "      <td>6.4</td>\n",
       "      <td>14.8</td>\n",
       "    </tr>\n",
       "    <tr>\n",
       "      <th>198</th>\n",
       "      <td>283.6</td>\n",
       "      <td>42.0</td>\n",
       "      <td>66.2</td>\n",
       "      <td>25.5</td>\n",
       "    </tr>\n",
       "    <tr>\n",
       "      <th>199</th>\n",
       "      <td>232.1</td>\n",
       "      <td>8.6</td>\n",
       "      <td>8.7</td>\n",
       "      <td>18.4</td>\n",
       "    </tr>\n",
       "  </tbody>\n",
       "</table>\n",
       "<p>200 rows × 4 columns</p>\n",
       "</div>"
      ],
      "text/plain": [
       "        TV  Radio  Newspaper  Sales\n",
       "0    230.1   37.8       69.2   22.1\n",
       "1     44.5   39.3       45.1   10.4\n",
       "2     17.2   45.9       69.3   12.0\n",
       "3    151.5   41.3       58.5   16.5\n",
       "4    180.8   10.8       58.4   17.9\n",
       "..     ...    ...        ...    ...\n",
       "195   38.2    3.7       13.8    7.6\n",
       "196   94.2    4.9        8.1   14.0\n",
       "197  177.0    9.3        6.4   14.8\n",
       "198  283.6   42.0       66.2   25.5\n",
       "199  232.1    8.6        8.7   18.4\n",
       "\n",
       "[200 rows x 4 columns]"
      ]
     },
     "execution_count": 78,
     "metadata": {},
     "output_type": "execute_result"
    }
   ],
   "source": [
    "dataset"
   ]
  },
  {
   "cell_type": "markdown",
   "metadata": {},
   "source": [
    "### For Simple Linear Regression"
   ]
  },
  {
   "cell_type": "code",
   "execution_count": null,
   "metadata": {},
   "outputs": [],
   "source": [
    "TV = dataset.iloc[:,2:3].values\n",
    "sales = dataset.iloc[:,-1].values"
   ]
  },
  {
   "cell_type": "code",
   "execution_count": null,
   "metadata": {},
   "outputs": [
    {
     "data": {
      "text/plain": [
       "array([[ 69.2],\n",
       "       [ 45.1],\n",
       "       [ 69.3],\n",
       "       [ 58.5],\n",
       "       [ 58.4],\n",
       "       [ 75. ],\n",
       "       [ 23.5],\n",
       "       [ 11.6],\n",
       "       [  1. ],\n",
       "       [ 21.2],\n",
       "       [ 24.2],\n",
       "       [  4. ],\n",
       "       [ 65.9],\n",
       "       [  7.2],\n",
       "       [ 46. ],\n",
       "       [ 52.9],\n",
       "       [114. ],\n",
       "       [ 55.8],\n",
       "       [ 18.3],\n",
       "       [ 19.1],\n",
       "       [ 53.4],\n",
       "       [ 23.5],\n",
       "       [ 49.6],\n",
       "       [ 26.2],\n",
       "       [ 18.3],\n",
       "       [ 19.5],\n",
       "       [ 12.6],\n",
       "       [ 22.9],\n",
       "       [ 22.9],\n",
       "       [ 40.8],\n",
       "       [ 43.2],\n",
       "       [ 38.6],\n",
       "       [ 30. ],\n",
       "       [  0.3],\n",
       "       [  7.4],\n",
       "       [  8.5],\n",
       "       [  5. ],\n",
       "       [ 45.7],\n",
       "       [ 35.1],\n",
       "       [ 32. ],\n",
       "       [ 31.6],\n",
       "       [ 38.7],\n",
       "       [  1.8],\n",
       "       [ 26.4],\n",
       "       [ 43.3],\n",
       "       [ 31.5],\n",
       "       [ 35.7],\n",
       "       [ 18.5],\n",
       "       [ 49.9],\n",
       "       [ 36.8],\n",
       "       [ 34.6],\n",
       "       [  3.6],\n",
       "       [ 39.6],\n",
       "       [ 58.7],\n",
       "       [ 15.9],\n",
       "       [ 60. ],\n",
       "       [ 41.4],\n",
       "       [ 16.6],\n",
       "       [ 37.7],\n",
       "       [  9.3],\n",
       "       [ 21.4],\n",
       "       [ 54.7],\n",
       "       [ 27.3],\n",
       "       [  8.4],\n",
       "       [ 28.9],\n",
       "       [  0.9],\n",
       "       [  2.2],\n",
       "       [ 10.2],\n",
       "       [ 11. ],\n",
       "       [ 27.2],\n",
       "       [ 38.7],\n",
       "       [ 31.7],\n",
       "       [ 19.3],\n",
       "       [ 31.3],\n",
       "       [ 13.1],\n",
       "       [ 89.4],\n",
       "       [ 20.7],\n",
       "       [ 14.2],\n",
       "       [  9.4],\n",
       "       [ 23.1],\n",
       "       [ 22.3],\n",
       "       [ 36.9],\n",
       "       [ 32.5],\n",
       "       [ 35.6],\n",
       "       [ 33.8],\n",
       "       [ 65.7],\n",
       "       [ 16. ],\n",
       "       [ 63.2],\n",
       "       [ 73.4],\n",
       "       [ 51.4],\n",
       "       [  9.3],\n",
       "       [ 33. ],\n",
       "       [ 59. ],\n",
       "       [ 72.3],\n",
       "       [ 10.9],\n",
       "       [ 52.9],\n",
       "       [  5.9],\n",
       "       [ 22. ],\n",
       "       [ 51.2],\n",
       "       [ 45.9],\n",
       "       [ 49.8],\n",
       "       [100.9],\n",
       "       [ 21.4],\n",
       "       [ 17.9],\n",
       "       [  5.3],\n",
       "       [ 59. ],\n",
       "       [ 29.7],\n",
       "       [ 23.2],\n",
       "       [ 25.6],\n",
       "       [  5.5],\n",
       "       [ 56.5],\n",
       "       [ 23.2],\n",
       "       [  2.4],\n",
       "       [ 10.7],\n",
       "       [ 34.5],\n",
       "       [ 52.7],\n",
       "       [ 25.6],\n",
       "       [ 14.8],\n",
       "       [ 79.2],\n",
       "       [ 22.3],\n",
       "       [ 46.2],\n",
       "       [ 50.4],\n",
       "       [ 15.6],\n",
       "       [ 12.4],\n",
       "       [ 74.2],\n",
       "       [ 25.9],\n",
       "       [ 50.6],\n",
       "       [  9.2],\n",
       "       [  3.2],\n",
       "       [ 43.1],\n",
       "       [  8.7],\n",
       "       [ 43. ],\n",
       "       [  2.1],\n",
       "       [ 45.1],\n",
       "       [ 65.6],\n",
       "       [  8.5],\n",
       "       [  9.3],\n",
       "       [ 59.7],\n",
       "       [ 20.5],\n",
       "       [  1.7],\n",
       "       [ 12.9],\n",
       "       [ 75.6],\n",
       "       [ 37.9],\n",
       "       [ 34.4],\n",
       "       [ 38.9],\n",
       "       [  9. ],\n",
       "       [  8.7],\n",
       "       [ 44.3],\n",
       "       [ 11.9],\n",
       "       [ 20.6],\n",
       "       [ 37. ],\n",
       "       [ 48.7],\n",
       "       [ 14.2],\n",
       "       [ 37.7],\n",
       "       [  9.5],\n",
       "       [  5.7],\n",
       "       [ 50.5],\n",
       "       [ 24.3],\n",
       "       [ 45.2],\n",
       "       [ 34.6],\n",
       "       [ 30.7],\n",
       "       [ 49.3],\n",
       "       [ 25.6],\n",
       "       [  7.4],\n",
       "       [  5.4],\n",
       "       [ 84.8],\n",
       "       [ 21.6],\n",
       "       [ 19.4],\n",
       "       [ 57.6],\n",
       "       [  6.4],\n",
       "       [ 18.4],\n",
       "       [ 47.4],\n",
       "       [ 17. ],\n",
       "       [ 12.8],\n",
       "       [ 13.1],\n",
       "       [ 41.8],\n",
       "       [ 20.3],\n",
       "       [ 35.2],\n",
       "       [ 23.7],\n",
       "       [ 17.6],\n",
       "       [  8.3],\n",
       "       [ 27.4],\n",
       "       [ 29.7],\n",
       "       [ 71.8],\n",
       "       [ 30. ],\n",
       "       [ 19.6],\n",
       "       [ 26.6],\n",
       "       [ 18.2],\n",
       "       [  3.7],\n",
       "       [ 23.4],\n",
       "       [  5.8],\n",
       "       [  6. ],\n",
       "       [ 31.6],\n",
       "       [  3.6],\n",
       "       [  6. ],\n",
       "       [ 13.8],\n",
       "       [  8.1],\n",
       "       [  6.4],\n",
       "       [ 66.2],\n",
       "       [  8.7]])"
      ]
     },
     "execution_count": 52,
     "metadata": {},
     "output_type": "execute_result"
    }
   ],
   "source": [
    "TV"
   ]
  },
  {
   "cell_type": "code",
   "execution_count": null,
   "metadata": {},
   "outputs": [
    {
     "data": {
      "image/png": "[encoded data removed]",
      "text/plain": [
       "<Figure size 640x480 with 1 Axes>"
      ]
     },
     "metadata": {},
     "output_type": "display_data"
    }
   ],
   "source": [
    "plt.scatter(TV,sales)\n",
    "plt.xlabel('TV advertising Spendings')\n",
    "plt.ylabel('Sales')\n",
    "plt.show()"
   ]
  },
  {
   "cell_type": "markdown",
   "metadata": {},
   "source": [
    "### For Multiple Linear Regression"
   ]
  },
  {
   "cell_type": "code",
   "execution_count": null,
   "metadata": {},
   "outputs": [],
   "source": [
    "X = dataset.iloc[:,:-1].values\n",
    "y = dataset.iloc[:,-1].values"
   ]
  },
  {
   "cell_type": "code",
   "execution_count": null,
   "metadata": {},
   "outputs": [],
   "source": []
  },
  {
   "cell_type": "code",
   "execution_count": null,
   "metadata": {},
   "outputs": [
    {
     "data": {
      "image/png": "[encoded data removed]",
      "text/plain": [
       "<Figure size 640x480 with 1 Axes>"
      ]
     },
     "metadata": {},
     "output_type": "display_data"
    }
   ],
   "source": [
    "# Extract data for TV, Radio, and Newspaper spending\n",
    "advertising_media = ['TV', 'Radio', 'Newspaper']\n",
    "spending = [dataset['TV'].mean(), dataset['Radio'].mean(), dataset['Newspaper'].mean()]\n",
    "\n",
    "# Plotting the bar graph\n",
    "plt.bar(advertising_media, spending, color=['red', 'green', 'blue'])\n",
    "plt.title('Average Advertising Spending on Different Media')\n",
    "plt.xlabel('Advertising Media')\n",
    "plt.ylabel('Average Spending')\n",
    "plt.show()"
   ]
  },
  {
   "cell_type": "markdown",
   "metadata": {},
   "source": [
    "## Spliting Dataset "
   ]
  },
  {
   "cell_type": "code",
   "execution_count": null,
   "metadata": {},
   "outputs": [],
   "source": [
    "from sklearn.model_selection import train_test_split"
   ]
  },
  {
   "cell_type": "markdown",
   "metadata": {},
   "source": [
    "### For Simple Linear Regression"
   ]
  },
  {
   "cell_type": "code",
   "execution_count": null,
   "metadata": {},
   "outputs": [],
   "source": [
    "TV_train , TV_test , S_train , S_test = train_test_split(TV,sales,random_state=0,train_size=0.8)"
   ]
  },
  {
   "cell_type": "code",
   "execution_count": null,
   "metadata": {},
   "outputs": [
    {
     "data": {
      "text/plain": [
       "(160, 1)"
      ]
     },
     "execution_count": 58,
     "metadata": {},
     "output_type": "execute_result"
    }
   ],
   "source": [
    "TV_train.shape"
   ]
  },
  {
   "cell_type": "code",
   "execution_count": null,
   "metadata": {},
   "outputs": [
    {
     "data": {
      "text/plain": [
       "(160,)"
      ]
     },
     "execution_count": 59,
     "metadata": {},
     "output_type": "execute_result"
    }
   ],
   "source": [
    "S_train.shape"
   ]
  },
  {
   "cell_type": "markdown",
   "metadata": {},
   "source": [
    "### For Multiple Linear Regression "
   ]
  },
  {
   "cell_type": "code",
   "execution_count": null,
   "metadata": {},
   "outputs": [],
   "source": [
    "X_train , X_test , y_train , y_test = train_test_split(X,y,random_state=0,test_size=0.2)"
   ]
  },
  {
   "cell_type": "markdown",
   "metadata": {},
   "source": [
    "## Training the Simple Linear Regression Model on the Training set"
   ]
  },
  {
   "cell_type": "code",
   "execution_count": null,
   "metadata": {},
   "outputs": [],
   "source": [
    "from sklearn.linear_model import LinearRegression"
   ]
  },
  {
   "cell_type": "markdown",
   "metadata": {},
   "source": [
    "### Simple Linear Regression Model"
   ]
  },
  {
   "cell_type": "code",
   "execution_count": null,
   "metadata": {},
   "outputs": [],
   "source": [
    "regressor= LinearRegression()"
   ]
  },
  {
   "cell_type": "code",
   "execution_count": null,
   "metadata": {},
   "outputs": [
    {
     "data": {
      "text/html": [
       "<style>#sk-container-id-3 {color: black;}#sk-container-id-3 pre{padding: 0;}#sk-container-id-3 div.sk-toggleable {background-color: white;}#sk-container-id-3 label.sk-toggleable__label {cursor: pointer;display: block;width: 100%;margin-bottom: 0;padding: 0.3em;box-sizing: border-box;text-align: center;}#sk-container-id-3 label.sk-toggleable__label-arrow:before {content: \"▸\";float: left;margin-right: 0.25em;color: #696969;}#sk-container-id-3 label.sk-toggleable__label-arrow:hover:before {color: black;}#sk-container-id-3 div.sk-estimator:hover label.sk-toggleable__label-arrow:before {color: black;}#sk-container-id-3 div.sk-toggleable__content {max-height: 0;max-width: 0;overflow: hidden;text-align: left;background-color: #f0f8ff;}#sk-container-id-3 div.sk-toggleable__content pre {margin: 0.2em;color: black;border-radius: 0.25em;background-color: #f0f8ff;}#sk-container-id-3 input.sk-toggleable__control:checked~div.sk-toggleable__content {max-height: 200px;max-width: 100%;overflow: auto;}#sk-container-id-3 input.sk-toggleable__control:checked~label.sk-toggleable__label-arrow:before {content: \"▾\";}#sk-container-id-3 div.sk-estimator input.sk-toggleable__control:checked~label.sk-toggleable__label {background-color: #d4ebff;}#sk-container-id-3 div.sk-label input.sk-toggleable__control:checked~label.sk-toggleable__label {background-color: #d4ebff;}#sk-container-id-3 input.sk-hidden--visually {border: 0;clip: rect(1px 1px 1px 1px);clip: rect(1px, 1px, 1px, 1px);height: 1px;margin: -1px;overflow: hidden;padding: 0;position: absolute;width: 1px;}#sk-container-id-3 div.sk-estimator {font-family: monospace;background-color: #f0f8ff;border: 1px dotted black;border-radius: 0.25em;box-sizing: border-box;margin-bottom: 0.5em;}#sk-container-id-3 div.sk-estimator:hover {background-color: #d4ebff;}#sk-container-id-3 div.sk-parallel-item::after {content: \"\";width: 100%;border-bottom: 1px solid gray;flex-grow: 1;}#sk-container-id-3 div.sk-label:hover label.sk-toggleable__label {background-color: #d4ebff;}#sk-container-id-3 div.sk-serial::before {content: \"\";position: absolute;border-left: 1px solid gray;box-sizing: border-box;top: 0;bottom: 0;left: 50%;z-index: 0;}#sk-container-id-3 div.sk-serial {display: flex;flex-direction: column;align-items: center;background-color: white;padding-right: 0.2em;padding-left: 0.2em;position: relative;}#sk-container-id-3 div.sk-item {position: relative;z-index: 1;}#sk-container-id-3 div.sk-parallel {display: flex;align-items: stretch;justify-content: center;background-color: white;position: relative;}#sk-container-id-3 div.sk-item::before, #sk-container-id-3 div.sk-parallel-item::before {content: \"\";position: absolute;border-left: 1px solid gray;box-sizing: border-box;top: 0;bottom: 0;left: 50%;z-index: -1;}#sk-container-id-3 div.sk-parallel-item {display: flex;flex-direction: column;z-index: 1;position: relative;background-color: white;}#sk-container-id-3 div.sk-parallel-item:first-child::after {align-self: flex-end;width: 50%;}#sk-container-id-3 div.sk-parallel-item:last-child::after {align-self: flex-start;width: 50%;}#sk-container-id-3 div.sk-parallel-item:only-child::after {width: 0;}#sk-container-id-3 div.sk-dashed-wrapped {border: 1px dashed gray;margin: 0 0.4em 0.5em 0.4em;box-sizing: border-box;padding-bottom: 0.4em;background-color: white;}#sk-container-id-3 div.sk-label label {font-family: monospace;font-weight: bold;display: inline-block;line-height: 1.2em;}#sk-container-id-3 div.sk-label-container {text-align: center;}#sk-container-id-3 div.sk-container {/* jupyter's `normalize.less` sets `[hidden] { display: none; }` but bootstrap.min.css set `[hidden] { display: none !important; }` so we also need the `!important` here to be able to override the default hidden behavior on the sphinx rendered scikit-learn.org. See: https://github.com/scikit-learn/scikit-learn/issues/21755 */display: inline-block !important;position: relative;}#sk-container-id-3 div.sk-text-repr-fallback {display: none;}</style><div id=\"sk-container-id-3\" class=\"sk-top-container\"><div class=\"sk-text-repr-fallback\"><pre>LinearRegression()</pre><b>In a Jupyter environment, please rerun this cell to show the HTML representation or trust the notebook. <br />On GitHub, the HTML representation is unable to render, please try loading this page with nbviewer.org.</b></div><div class=\"sk-container\" hidden><div class=\"sk-item\"><div class=\"sk-estimator sk-toggleable\"><input class=\"sk-toggleable__control sk-hidden--visually\" id=\"sk-estimator-id-3\" type=\"checkbox\" checked><label for=\"sk-estimator-id-3\" class=\"sk-toggleable__label sk-toggleable__label-arrow\">LinearRegression</label><div class=\"sk-toggleable__content\"><pre>LinearRegression()</pre></div></div></div></div></div>"
      ],
      "text/plain": [
       "LinearRegression()"
      ]
     },
     "execution_count": 63,
     "metadata": {},
     "output_type": "execute_result"
    }
   ],
   "source": [
    "regressor.fit(TV_train,S_train)"
   ]
  },
  {
   "cell_type": "code",
   "execution_count": null,
   "metadata": {},
   "outputs": [],
   "source": [
    "S_pred = regressor.predict(TV_test)"
   ]
  },
  {
   "cell_type": "code",
   "execution_count": null,
   "metadata": {},
   "outputs": [
    {
     "data": {
      "image/png": "[encoded data removed]",
      "text/plain": [
       "<Figure size 640x480 with 1 Axes>"
      ]
     },
     "metadata": {},
     "output_type": "display_data"
    }
   ],
   "source": [
    "plt.scatter(TV_test, S_test, color='black')\n",
    "plt.plot(TV_test, S_pred, color='blue', linewidth=3)\n",
    "plt.xlabel('TV ads Spending ')\n",
    "plt.ylabel('Sales')\n",
    "plt.title('Linear Regression: TV ads Spending  vs. Sales')\n",
    "plt.show()\n"
   ]
  },
  {
   "cell_type": "markdown",
   "metadata": {},
   "source": [
    "## Regression Results"
   ]
  },
  {
   "cell_type": "code",
   "execution_count": null,
   "metadata": {},
   "outputs": [],
   "source": [
    "from sklearn import metrics"
   ]
  },
  {
   "cell_type": "code",
   "execution_count": null,
   "metadata": {},
   "outputs": [
    {
     "name": "stdout",
     "output_type": "stream",
     "text": [
      "Coefficients: [0.04469941]\n",
      "Intercept: 14.009027446152578\n",
      "Mean Absolute Error: 4.970765063598643\n",
      "Mean Squared Error: 34.972705918316024\n",
      "Root Mean Squared Error: 5.91377256227495\n"
     ]
    }
   ],
   "source": [
    "print('Coefficients:', regressor.coef_)\n",
    "print('Intercept:', regressor.intercept_)\n",
    "print('Mean Absolute Error:', metrics.mean_absolute_error(S_test, S_pred))\n",
    "print('Mean Squared Error:', metrics.mean_squared_error(S_test, S_pred))\n",
    "print('Root Mean Squared Error:', np.sqrt(metrics.mean_squared_error(S_test, S_pred)))\n",
    "\n"
   ]
  },
  {
   "cell_type": "code",
   "execution_count": null,
   "metadata": {},
   "outputs": [
    {
     "data": {
      "text/plain": [
       "-0.04777401704458972"
      ]
     },
     "execution_count": 68,
     "metadata": {},
     "output_type": "execute_result"
    }
   ],
   "source": [
    "r2= metrics.r2_score(S_test,S_pred)\n",
    "r2"
   ]
  },
  {
   "cell_type": "markdown",
   "metadata": {},
   "source": [
    "### Multiple Linear Regression"
   ]
  },
  {
   "cell_type": "code",
   "execution_count": null,
   "metadata": {},
   "outputs": [],
   "source": [
    "regressor_multi = LinearRegression()\n",
    "regressor_multi.fit(X_train, y_train)\n",
    "y_pred_multi = regressor_multi.predict(X_test)"
   ]
  },
  {
   "cell_type": "markdown",
   "metadata": {},
   "source": [
    "## Regression Results"
   ]
  },
  {
   "cell_type": "code",
   "execution_count": null,
   "metadata": {},
   "outputs": [
    {
     "name": "stdout",
     "output_type": "stream",
     "text": [
      "Coefficients: [ 0.05368006  0.11152624 -0.00351166]\n",
      "Intercept: 4.7732052032698284\n",
      "Mean Absolute Error: 1.417031303060066\n",
      "Mean Squared Error: 4.522552562041287\n",
      "Root Mean Squared Error: 2.126629389912894\n"
     ]
    }
   ],
   "source": [
    "print('Coefficients:', regressor_multi.coef_)\n",
    "print('Intercept:', regressor_multi.intercept_)\n",
    "print('Mean Absolute Error:', metrics.mean_absolute_error(y_test, y_pred_multi))\n",
    "print('Mean Squared Error:', metrics.mean_squared_error(y_test, y_pred_multi))\n",
    "print('Root Mean Squared Error:', np.sqrt(metrics.mean_squared_error(y_test, y_pred_multi)))"
   ]
  },
  {
   "cell_type": "code",
   "execution_count": null,
   "metadata": {},
   "outputs": [],
   "source": []
  }
 ],
 "metadata": {
  "kernelspec": {
   "display_name": "Python 3",
   "language": "python",
   "name": "python3"
  },
  "language_info": {
   "codemirror_mode": {
    "name": "ipython",
    "version": 3
   },
   "file_extension": ".py",
   "mimetype": "text/x-python",
   "name": "python",
   "nbconvert_exporter": "python",
   "pygments_lexer": "ipython3",
   "version": "3.11.4"
  }
 },
 "nbformat": 4,
 "nbformat_minor": 2
}
